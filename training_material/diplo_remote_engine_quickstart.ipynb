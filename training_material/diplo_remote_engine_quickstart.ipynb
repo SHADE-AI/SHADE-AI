{
 "cells": [
  {
   "cell_type": "markdown",
   "metadata": {},
   "source": [
    "# Remote Diplomacy Game Engine: Quickstart\n",
    "\n",
    "A persistent, remote game engine is hosted at shade.tacc.utexas.edu:8432. The accompanying Web UI can be accessed on port 3000. The Diplomacy python client and Web UI are the primary modes to interact with the engine. While it is expected to be highly available, unexpected center-wide network issues and planned maintainence are possibilities. The quickstart demonstrates how to connect to the game engine, create a game, and launch seven independent processes to play through a Diplomacy game by submitting random orders. The `ray` package and Ray actor classes are used to create these independent players. See the Network Game section of the README file at https://github.com/SHADE-AI/diplomacy for an example script run via Python interpreter (Jupyter notebooks rely on an asyncio event loop which doesn't jive with the example in github). Be sure to replace the hostname and port."
   ]
  },
  {
   "cell_type": "code",
   "execution_count": null,
   "metadata": {},
   "outputs": [],
   "source": [
    "import asyncio\n",
    "import random\n",
    "import diplomacy.client\n",
    "from diplomacy.client.connection import connect\n",
    "from diplomacy.utils import exceptions\n",
    "import ray"
   ]
  },
  {
   "cell_type": "code",
   "execution_count": null,
   "metadata": {},
   "outputs": [],
   "source": [
    "ray.init()"
   ]
  },
  {
   "cell_type": "code",
   "execution_count": null,
   "metadata": {},
   "outputs": [],
   "source": [
    "@ray.remote\n",
    "class RemotePlayer:\n",
    "    \n",
    "    def __init__(self,username, password, power, hostname, port):\n",
    "        self.game_id = \"\"\n",
    "        self.power = power\n",
    "        self.username = username\n",
    "        self.password = password\n",
    "        self.hostname = hostname\n",
    "        self.port = port\n",
    "        self.game = None\n",
    "        self.channel = None\n",
    "        self.connect = None\n",
    "    \n",
    "    async def join_game(self,game_id):\n",
    "        self.game_id = game_id\n",
    "        print(\"user: {}\\tgame_id: {}\\tpower: {}\\thost: {}\\tport: {}\".format(self.username,self.game_id, self.power,self.hostname,self.port))\n",
    "        \n",
    "        self.connection = await connect(self.hostname, self.port)\n",
    "        self.channel = await self.connection.authenticate(self.username, self.password)\n",
    "        # Waiting for the game, then joining it\n",
    "        while not (await self.channel.list_games(game_id=self.game_id)):\n",
    "            await asyncio.sleep(1.)\n",
    "        self.game = await self.channel.join_game(game_id=self.game_id, power_name=self.power)\n",
    "    \n",
    "    async def play(self):\n",
    "        if self.game == None:\n",
    "            return\n",
    "        while not self.game.is_game_done:\n",
    "            current_phase = self.game.get_current_phase()\n",
    "            \n",
    "            #submit random, legitimate orders\n",
    "            if self.game.get_orderable_locations(self.power):\n",
    "                possible_orders = self.game.get_all_possible_orders()\n",
    "                orders = [random.choice(possible_orders[loc]) for loc in self.game.get_orderable_locations(self.power) if possible_orders[loc]]\n",
    "                print('[%s/%s] - Submitted: %s' % (self.power, self.game.get_current_phase(), orders))\n",
    "                await self.game.set_orders(power_name=self.power, orders=orders, wait=False)\n",
    "            \n",
    "\n",
    "            while current_phase == self.game.get_current_phase():\n",
    "                await asyncio.sleep(0.1)\n",
    "\n",
    "        \n",
    "    "
   ]
  },
  {
   "cell_type": "code",
   "execution_count": null,
   "metadata": {},
   "outputs": [],
   "source": [
    "POWERS = ['AUSTRIA', 'ENGLAND', 'FRANCE', 'GERMANY', 'ITALY', 'RUSSIA', 'TURKEY']\n",
    "host = \"shade.tacc.utexas.edu\"\n",
    "port = 8432"
   ]
  },
  {
   "cell_type": "markdown",
   "metadata": {},
   "source": [
    "### Connect to engine and create game"
   ]
  },
  {
   "cell_type": "code",
   "execution_count": null,
   "metadata": {},
   "outputs": [],
   "source": [
    "#default - creating game without joining as a power returns an omniscient observer\n",
    "connection = await connect(host,8432)\n",
    "\n",
    "#connection.authenticate will create user if not already exists\n",
    "channel = await connection.authenticate('game_master','password')\n",
    "\n",
    "game_id = \"Test_game5\"\n",
    "game_master = await channel.create_game(game_id=game_id, rules={'REAL_TIME', 'NO_DEADLINE', 'POWER_CHOICE'})"
   ]
  },
  {
   "cell_type": "markdown",
   "metadata": {},
   "source": [
    "### Instantiate RemotePlayer objects and join game"
   ]
  },
  {
   "cell_type": "code",
   "execution_count": null,
   "metadata": {},
   "outputs": [],
   "source": [
    "players = [RemotePlayer.remote(\"user_\"+pow, \"password\", pow, host,port) for pow in POWERS]\n",
    "ray.get([p.join_game.remote(game_id) for p in players])"
   ]
  },
  {
   "cell_type": "markdown",
   "metadata": {},
   "source": [
    "### Instruct each RemotePlayer to begin playing (random orders)\n",
    "Note: errors related to web socket connection thrown when game finishes. Need to look into this further."
   ]
  },
  {
   "cell_type": "code",
   "execution_count": null,
   "metadata": {},
   "outputs": [],
   "source": [
    "ray.get([p.play.remote() for p in players])"
   ]
  },
  {
   "cell_type": "code",
   "execution_count": null,
   "metadata": {},
   "outputs": [],
   "source": []
  }
 ],
 "metadata": {
  "kernelspec": {
   "display_name": "Python 3 (ipykernel)",
   "language": "python",
   "name": "python3"
  },
  "language_info": {
   "codemirror_mode": {
    "name": "ipython",
    "version": 3
   },
   "file_extension": ".py",
   "mimetype": "text/x-python",
   "name": "python",
   "nbconvert_exporter": "python",
   "pygments_lexer": "ipython3",
   "version": "3.7.3"
  }
 },
 "nbformat": 4,
 "nbformat_minor": 2
}
